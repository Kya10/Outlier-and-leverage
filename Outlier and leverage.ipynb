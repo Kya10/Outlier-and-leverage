{
 "cells": [
  {
   "cell_type": "markdown",
   "metadata": {},
   "source": [
    "# Real estate valuation example"
   ]
  },
  {
   "cell_type": "code",
   "execution_count": 35,
   "metadata": {},
   "outputs": [
    {
     "data": {
      "text/html": [
       "<div>\n",
       "<style scoped>\n",
       "    .dataframe tbody tr th:only-of-type {\n",
       "        vertical-align: middle;\n",
       "    }\n",
       "\n",
       "    .dataframe tbody tr th {\n",
       "        vertical-align: top;\n",
       "    }\n",
       "\n",
       "    .dataframe thead th {\n",
       "        text-align: right;\n",
       "    }\n",
       "</style>\n",
       "<table border=\"1\" class=\"dataframe\">\n",
       "  <thead>\n",
       "    <tr style=\"text-align: right;\">\n",
       "      <th></th>\n",
       "      <th>X1</th>\n",
       "      <th>X2</th>\n",
       "      <th>X3</th>\n",
       "      <th>X4</th>\n",
       "      <th>X5</th>\n",
       "      <th>X6</th>\n",
       "      <th>Y</th>\n",
       "    </tr>\n",
       "  </thead>\n",
       "  <tbody>\n",
       "    <tr>\n",
       "      <th>0</th>\n",
       "      <td>2012.917</td>\n",
       "      <td>32.0</td>\n",
       "      <td>84.87882</td>\n",
       "      <td>10</td>\n",
       "      <td>24.98298</td>\n",
       "      <td>121.54024</td>\n",
       "      <td>37.9</td>\n",
       "    </tr>\n",
       "    <tr>\n",
       "      <th>1</th>\n",
       "      <td>2012.917</td>\n",
       "      <td>19.5</td>\n",
       "      <td>306.59470</td>\n",
       "      <td>9</td>\n",
       "      <td>24.98034</td>\n",
       "      <td>121.53951</td>\n",
       "      <td>42.2</td>\n",
       "    </tr>\n",
       "    <tr>\n",
       "      <th>2</th>\n",
       "      <td>2013.583</td>\n",
       "      <td>13.3</td>\n",
       "      <td>561.98450</td>\n",
       "      <td>5</td>\n",
       "      <td>24.98746</td>\n",
       "      <td>121.54391</td>\n",
       "      <td>47.3</td>\n",
       "    </tr>\n",
       "    <tr>\n",
       "      <th>3</th>\n",
       "      <td>2013.500</td>\n",
       "      <td>13.3</td>\n",
       "      <td>561.98450</td>\n",
       "      <td>5</td>\n",
       "      <td>24.98746</td>\n",
       "      <td>121.54391</td>\n",
       "      <td>54.8</td>\n",
       "    </tr>\n",
       "    <tr>\n",
       "      <th>4</th>\n",
       "      <td>2012.833</td>\n",
       "      <td>5.0</td>\n",
       "      <td>390.56840</td>\n",
       "      <td>5</td>\n",
       "      <td>24.97937</td>\n",
       "      <td>121.54245</td>\n",
       "      <td>43.1</td>\n",
       "    </tr>\n",
       "  </tbody>\n",
       "</table>\n",
       "</div>"
      ],
      "text/plain": [
       "         X1    X2         X3  X4        X5         X6     Y\n",
       "0  2012.917  32.0   84.87882  10  24.98298  121.54024  37.9\n",
       "1  2012.917  19.5  306.59470   9  24.98034  121.53951  42.2\n",
       "2  2013.583  13.3  561.98450   5  24.98746  121.54391  47.3\n",
       "3  2013.500  13.3  561.98450   5  24.98746  121.54391  54.8\n",
       "4  2012.833   5.0  390.56840   5  24.97937  121.54245  43.1"
      ]
     },
     "execution_count": 35,
     "metadata": {},
     "output_type": "execute_result"
    }
   ],
   "source": [
    "import pandas as pd\n",
    "import numpy as np\n",
    "import matplotlib.pyplot as plt\n",
    "\n",
    "data = pd.read_csv(\"c:\\\\MSC 550\\\\Lecture\\\\Week3\\\\Real estate.csv\")\n",
    "data.head()"
   ]
  },
  {
   "cell_type": "markdown",
   "metadata": {},
   "source": [
    "# Nonlinear transformation of independent variables"
   ]
  },
  {
   "cell_type": "code",
   "execution_count": 36,
   "metadata": {},
   "outputs": [
    {
     "data": {
      "text/html": [
       "<div>\n",
       "<style scoped>\n",
       "    .dataframe tbody tr th:only-of-type {\n",
       "        vertical-align: middle;\n",
       "    }\n",
       "\n",
       "    .dataframe tbody tr th {\n",
       "        vertical-align: top;\n",
       "    }\n",
       "\n",
       "    .dataframe thead th {\n",
       "        text-align: right;\n",
       "    }\n",
       "</style>\n",
       "<table border=\"1\" class=\"dataframe\">\n",
       "  <thead>\n",
       "    <tr style=\"text-align: right;\">\n",
       "      <th></th>\n",
       "      <th>X2_1</th>\n",
       "      <th>X2_2</th>\n",
       "      <th>Log_X3</th>\n",
       "      <th>X4</th>\n",
       "      <th>X5</th>\n",
       "      <th>X6</th>\n",
       "      <th>Y</th>\n",
       "    </tr>\n",
       "  </thead>\n",
       "  <tbody>\n",
       "    <tr>\n",
       "      <th>0</th>\n",
       "      <td>32.0</td>\n",
       "      <td>1024.00</td>\n",
       "      <td>4.441225</td>\n",
       "      <td>10</td>\n",
       "      <td>24.98298</td>\n",
       "      <td>121.54024</td>\n",
       "      <td>37.9</td>\n",
       "    </tr>\n",
       "    <tr>\n",
       "      <th>1</th>\n",
       "      <td>19.5</td>\n",
       "      <td>380.25</td>\n",
       "      <td>5.725527</td>\n",
       "      <td>9</td>\n",
       "      <td>24.98034</td>\n",
       "      <td>121.53951</td>\n",
       "      <td>42.2</td>\n",
       "    </tr>\n",
       "    <tr>\n",
       "      <th>2</th>\n",
       "      <td>13.3</td>\n",
       "      <td>176.89</td>\n",
       "      <td>6.331474</td>\n",
       "      <td>5</td>\n",
       "      <td>24.98746</td>\n",
       "      <td>121.54391</td>\n",
       "      <td>47.3</td>\n",
       "    </tr>\n",
       "    <tr>\n",
       "      <th>3</th>\n",
       "      <td>13.3</td>\n",
       "      <td>176.89</td>\n",
       "      <td>6.331474</td>\n",
       "      <td>5</td>\n",
       "      <td>24.98746</td>\n",
       "      <td>121.54391</td>\n",
       "      <td>54.8</td>\n",
       "    </tr>\n",
       "    <tr>\n",
       "      <th>4</th>\n",
       "      <td>5.0</td>\n",
       "      <td>25.00</td>\n",
       "      <td>5.967603</td>\n",
       "      <td>5</td>\n",
       "      <td>24.97937</td>\n",
       "      <td>121.54245</td>\n",
       "      <td>43.1</td>\n",
       "    </tr>\n",
       "    <tr>\n",
       "      <th>...</th>\n",
       "      <td>...</td>\n",
       "      <td>...</td>\n",
       "      <td>...</td>\n",
       "      <td>...</td>\n",
       "      <td>...</td>\n",
       "      <td>...</td>\n",
       "      <td>...</td>\n",
       "    </tr>\n",
       "    <tr>\n",
       "      <th>409</th>\n",
       "      <td>13.7</td>\n",
       "      <td>187.69</td>\n",
       "      <td>8.314346</td>\n",
       "      <td>0</td>\n",
       "      <td>24.94155</td>\n",
       "      <td>121.50381</td>\n",
       "      <td>15.4</td>\n",
       "    </tr>\n",
       "    <tr>\n",
       "      <th>410</th>\n",
       "      <td>5.6</td>\n",
       "      <td>31.36</td>\n",
       "      <td>4.504864</td>\n",
       "      <td>9</td>\n",
       "      <td>24.97433</td>\n",
       "      <td>121.54310</td>\n",
       "      <td>50.0</td>\n",
       "    </tr>\n",
       "    <tr>\n",
       "      <th>411</th>\n",
       "      <td>18.8</td>\n",
       "      <td>353.44</td>\n",
       "      <td>5.968630</td>\n",
       "      <td>7</td>\n",
       "      <td>24.97923</td>\n",
       "      <td>121.53986</td>\n",
       "      <td>40.6</td>\n",
       "    </tr>\n",
       "    <tr>\n",
       "      <th>412</th>\n",
       "      <td>8.1</td>\n",
       "      <td>65.61</td>\n",
       "      <td>4.652150</td>\n",
       "      <td>5</td>\n",
       "      <td>24.96674</td>\n",
       "      <td>121.54067</td>\n",
       "      <td>52.5</td>\n",
       "    </tr>\n",
       "    <tr>\n",
       "      <th>413</th>\n",
       "      <td>6.5</td>\n",
       "      <td>42.25</td>\n",
       "      <td>4.504864</td>\n",
       "      <td>9</td>\n",
       "      <td>24.97433</td>\n",
       "      <td>121.54310</td>\n",
       "      <td>63.9</td>\n",
       "    </tr>\n",
       "  </tbody>\n",
       "</table>\n",
       "<p>414 rows × 7 columns</p>\n",
       "</div>"
      ],
      "text/plain": [
       "     X2_1     X2_2    Log_X3  X4        X5         X6     Y\n",
       "0    32.0  1024.00  4.441225  10  24.98298  121.54024  37.9\n",
       "1    19.5   380.25  5.725527   9  24.98034  121.53951  42.2\n",
       "2    13.3   176.89  6.331474   5  24.98746  121.54391  47.3\n",
       "3    13.3   176.89  6.331474   5  24.98746  121.54391  54.8\n",
       "4     5.0    25.00  5.967603   5  24.97937  121.54245  43.1\n",
       "..    ...      ...       ...  ..       ...        ...   ...\n",
       "409  13.7   187.69  8.314346   0  24.94155  121.50381  15.4\n",
       "410   5.6    31.36  4.504864   9  24.97433  121.54310  50.0\n",
       "411  18.8   353.44  5.968630   7  24.97923  121.53986  40.6\n",
       "412   8.1    65.61  4.652150   5  24.96674  121.54067  52.5\n",
       "413   6.5    42.25  4.504864   9  24.97433  121.54310  63.9\n",
       "\n",
       "[414 rows x 7 columns]"
      ]
     },
     "execution_count": 36,
     "metadata": {},
     "output_type": "execute_result"
    }
   ],
   "source": [
    "from sklearn.preprocessing import PolynomialFeatures\n",
    "poly = PolynomialFeatures(degree=2)\n",
    "X2 = poly.fit_transform(data.iloc[:,1:2])\n",
    "X2 = pd.DataFrame(X2[:,1:], columns = ['X2_1','X2_2'])\n",
    "X3 = np.log(data.iloc[:,2:3])\n",
    "X3 = X3.rename(columns={\"X3\": \"Log_X3\"})\n",
    "data = pd.concat([X2, X3, data.iloc[:,3:]], axis=1)\n",
    "data"
   ]
  },
  {
   "cell_type": "markdown",
   "metadata": {},
   "source": [
    "# Identify outliers based on z-score and interquartile range."
   ]
  },
  {
   "cell_type": "code",
   "execution_count": 13,
   "metadata": {},
   "outputs": [
    {
     "data": {
      "text/html": [
       "<div>\n",
       "<style scoped>\n",
       "    .dataframe tbody tr th:only-of-type {\n",
       "        vertical-align: middle;\n",
       "    }\n",
       "\n",
       "    .dataframe tbody tr th {\n",
       "        vertical-align: top;\n",
       "    }\n",
       "\n",
       "    .dataframe thead th {\n",
       "        text-align: right;\n",
       "    }\n",
       "</style>\n",
       "<table border=\"1\" class=\"dataframe\">\n",
       "  <thead>\n",
       "    <tr style=\"text-align: right;\">\n",
       "      <th></th>\n",
       "      <th>X2_1</th>\n",
       "      <th>X2_2</th>\n",
       "      <th>Log_X3</th>\n",
       "      <th>X4</th>\n",
       "      <th>X5</th>\n",
       "      <th>X6</th>\n",
       "      <th>Y</th>\n",
       "    </tr>\n",
       "  </thead>\n",
       "  <tbody>\n",
       "    <tr>\n",
       "      <th>113</th>\n",
       "      <td>14.8</td>\n",
       "      <td>219.04</td>\n",
       "      <td>5.974472</td>\n",
       "      <td>6</td>\n",
       "      <td>24.96172</td>\n",
       "      <td>121.53812</td>\n",
       "      <td>7.6</td>\n",
       "    </tr>\n",
       "    <tr>\n",
       "      <th>148</th>\n",
       "      <td>16.4</td>\n",
       "      <td>268.96</td>\n",
       "      <td>8.237635</td>\n",
       "      <td>0</td>\n",
       "      <td>24.93293</td>\n",
       "      <td>121.51203</td>\n",
       "      <td>45.1</td>\n",
       "    </tr>\n",
       "    <tr>\n",
       "      <th>270</th>\n",
       "      <td>10.8</td>\n",
       "      <td>116.64</td>\n",
       "      <td>5.531737</td>\n",
       "      <td>1</td>\n",
       "      <td>24.97460</td>\n",
       "      <td>121.53046</td>\n",
       "      <td>117.5</td>\n",
       "    </tr>\n",
       "    <tr>\n",
       "      <th>312</th>\n",
       "      <td>35.4</td>\n",
       "      <td>1253.16</td>\n",
       "      <td>5.763714</td>\n",
       "      <td>9</td>\n",
       "      <td>24.97071</td>\n",
       "      <td>121.54069</td>\n",
       "      <td>78.0</td>\n",
       "    </tr>\n",
       "  </tbody>\n",
       "</table>\n",
       "</div>"
      ],
      "text/plain": [
       "     X2_1     X2_2    Log_X3  X4        X5         X6      Y\n",
       "113  14.8   219.04  5.974472   6  24.96172  121.53812    7.6\n",
       "148  16.4   268.96  8.237635   0  24.93293  121.51203   45.1\n",
       "270  10.8   116.64  5.531737   1  24.97460  121.53046  117.5\n",
       "312  35.4  1253.16  5.763714   9  24.97071  121.54069   78.0"
      ]
     },
     "execution_count": 13,
     "metadata": {},
     "output_type": "execute_result"
    }
   ],
   "source": [
    "data[abs(residual_norm) > 3]"
   ]
  },
  {
   "cell_type": "code",
   "execution_count": 15,
   "metadata": {},
   "outputs": [
    {
     "data": {
      "text/html": [
       "<div>\n",
       "<style scoped>\n",
       "    .dataframe tbody tr th:only-of-type {\n",
       "        vertical-align: middle;\n",
       "    }\n",
       "\n",
       "    .dataframe tbody tr th {\n",
       "        vertical-align: top;\n",
       "    }\n",
       "\n",
       "    .dataframe thead th {\n",
       "        text-align: right;\n",
       "    }\n",
       "</style>\n",
       "<table border=\"1\" class=\"dataframe\">\n",
       "  <thead>\n",
       "    <tr style=\"text-align: right;\">\n",
       "      <th></th>\n",
       "      <th>X2_1</th>\n",
       "      <th>X2_2</th>\n",
       "      <th>Log_X3</th>\n",
       "      <th>X4</th>\n",
       "      <th>X5</th>\n",
       "      <th>X6</th>\n",
       "      <th>Y</th>\n",
       "    </tr>\n",
       "  </thead>\n",
       "  <tbody>\n",
       "    <tr>\n",
       "      <th>47</th>\n",
       "      <td>35.9</td>\n",
       "      <td>1288.81</td>\n",
       "      <td>6.462622</td>\n",
       "      <td>3</td>\n",
       "      <td>24.97563</td>\n",
       "      <td>121.53715</td>\n",
       "      <td>61.5</td>\n",
       "    </tr>\n",
       "    <tr>\n",
       "      <th>55</th>\n",
       "      <td>31.7</td>\n",
       "      <td>1004.89</td>\n",
       "      <td>7.056720</td>\n",
       "      <td>0</td>\n",
       "      <td>24.94968</td>\n",
       "      <td>121.53009</td>\n",
       "      <td>13.7</td>\n",
       "    </tr>\n",
       "    <tr>\n",
       "      <th>113</th>\n",
       "      <td>14.8</td>\n",
       "      <td>219.04</td>\n",
       "      <td>5.974472</td>\n",
       "      <td>6</td>\n",
       "      <td>24.96172</td>\n",
       "      <td>121.53812</td>\n",
       "      <td>7.6</td>\n",
       "    </tr>\n",
       "    <tr>\n",
       "      <th>126</th>\n",
       "      <td>38.6</td>\n",
       "      <td>1489.96</td>\n",
       "      <td>6.690457</td>\n",
       "      <td>4</td>\n",
       "      <td>24.97838</td>\n",
       "      <td>121.53477</td>\n",
       "      <td>62.9</td>\n",
       "    </tr>\n",
       "    <tr>\n",
       "      <th>148</th>\n",
       "      <td>16.4</td>\n",
       "      <td>268.96</td>\n",
       "      <td>8.237635</td>\n",
       "      <td>0</td>\n",
       "      <td>24.93293</td>\n",
       "      <td>121.51203</td>\n",
       "      <td>45.1</td>\n",
       "    </tr>\n",
       "    <tr>\n",
       "      <th>194</th>\n",
       "      <td>15.2</td>\n",
       "      <td>231.04</td>\n",
       "      <td>8.235333</td>\n",
       "      <td>0</td>\n",
       "      <td>24.93363</td>\n",
       "      <td>121.51158</td>\n",
       "      <td>29.3</td>\n",
       "    </tr>\n",
       "    <tr>\n",
       "      <th>220</th>\n",
       "      <td>37.2</td>\n",
       "      <td>1383.84</td>\n",
       "      <td>5.228485</td>\n",
       "      <td>9</td>\n",
       "      <td>24.97703</td>\n",
       "      <td>121.54265</td>\n",
       "      <td>78.3</td>\n",
       "    </tr>\n",
       "    <tr>\n",
       "      <th>251</th>\n",
       "      <td>31.7</td>\n",
       "      <td>1004.89</td>\n",
       "      <td>7.055704</td>\n",
       "      <td>0</td>\n",
       "      <td>24.94960</td>\n",
       "      <td>121.53018</td>\n",
       "      <td>13.8</td>\n",
       "    </tr>\n",
       "    <tr>\n",
       "      <th>270</th>\n",
       "      <td>10.8</td>\n",
       "      <td>116.64</td>\n",
       "      <td>5.531737</td>\n",
       "      <td>1</td>\n",
       "      <td>24.97460</td>\n",
       "      <td>121.53046</td>\n",
       "      <td>117.5</td>\n",
       "    </tr>\n",
       "    <tr>\n",
       "      <th>285</th>\n",
       "      <td>30.1</td>\n",
       "      <td>906.01</td>\n",
       "      <td>6.576879</td>\n",
       "      <td>3</td>\n",
       "      <td>24.97509</td>\n",
       "      <td>121.53644</td>\n",
       "      <td>55.3</td>\n",
       "    </tr>\n",
       "    <tr>\n",
       "      <th>312</th>\n",
       "      <td>35.4</td>\n",
       "      <td>1253.16</td>\n",
       "      <td>5.763714</td>\n",
       "      <td>9</td>\n",
       "      <td>24.97071</td>\n",
       "      <td>121.54069</td>\n",
       "      <td>78.0</td>\n",
       "    </tr>\n",
       "    <tr>\n",
       "      <th>330</th>\n",
       "      <td>32.0</td>\n",
       "      <td>1024.00</td>\n",
       "      <td>7.053393</td>\n",
       "      <td>0</td>\n",
       "      <td>24.94935</td>\n",
       "      <td>121.53046</td>\n",
       "      <td>12.8</td>\n",
       "    </tr>\n",
       "    <tr>\n",
       "      <th>334</th>\n",
       "      <td>30.0</td>\n",
       "      <td>900.00</td>\n",
       "      <td>6.921008</td>\n",
       "      <td>5</td>\n",
       "      <td>24.99006</td>\n",
       "      <td>121.53460</td>\n",
       "      <td>22.8</td>\n",
       "    </tr>\n",
       "    <tr>\n",
       "      <th>382</th>\n",
       "      <td>16.3</td>\n",
       "      <td>265.69</td>\n",
       "      <td>8.168930</td>\n",
       "      <td>0</td>\n",
       "      <td>24.93207</td>\n",
       "      <td>121.51597</td>\n",
       "      <td>29.3</td>\n",
       "    </tr>\n",
       "  </tbody>\n",
       "</table>\n",
       "</div>"
      ],
      "text/plain": [
       "     X2_1     X2_2    Log_X3  X4        X5         X6      Y\n",
       "47   35.9  1288.81  6.462622   3  24.97563  121.53715   61.5\n",
       "55   31.7  1004.89  7.056720   0  24.94968  121.53009   13.7\n",
       "113  14.8   219.04  5.974472   6  24.96172  121.53812    7.6\n",
       "126  38.6  1489.96  6.690457   4  24.97838  121.53477   62.9\n",
       "148  16.4   268.96  8.237635   0  24.93293  121.51203   45.1\n",
       "194  15.2   231.04  8.235333   0  24.93363  121.51158   29.3\n",
       "220  37.2  1383.84  5.228485   9  24.97703  121.54265   78.3\n",
       "251  31.7  1004.89  7.055704   0  24.94960  121.53018   13.8\n",
       "270  10.8   116.64  5.531737   1  24.97460  121.53046  117.5\n",
       "285  30.1   906.01  6.576879   3  24.97509  121.53644   55.3\n",
       "312  35.4  1253.16  5.763714   9  24.97071  121.54069   78.0\n",
       "330  32.0  1024.00  7.053393   0  24.94935  121.53046   12.8\n",
       "334  30.0   900.00  6.921008   5  24.99006  121.53460   22.8\n",
       "382  16.3   265.69  8.168930   0  24.93207  121.51597   29.3"
      ]
     },
     "execution_count": 15,
     "metadata": {},
     "output_type": "execute_result"
    }
   ],
   "source": [
    "Q1 = np.quantile(residual_norm, 0.25)\n",
    "Q3 = np.quantile(residual_norm, 0.75)\n",
    "iqr = Q3 - Q1\n",
    "data[(residual_norm < Q1-1.5*iqr) | (residual_norm > Q3+1.5*iqr)]"
   ]
  },
  {
   "cell_type": "markdown",
   "metadata": {},
   "source": [
    "# Exclude the outliers"
   ]
  },
  {
   "cell_type": "code",
   "execution_count": 31,
   "metadata": {},
   "outputs": [],
   "source": [
    "data = data[abs(residual_norm) <= 3]"
   ]
  },
  {
   "cell_type": "code",
   "execution_count": 26,
   "metadata": {},
   "outputs": [],
   "source": [
    "data = data[leverage < 2*lm.params.size/data.shape[0]]"
   ]
  },
  {
   "cell_type": "markdown",
   "metadata": {},
   "source": [
    "# Train a linear regression model using OLS function from statsmodels, report the results, and conduct diagnostic check using histogram and Q-Q plot."
   ]
  },
  {
   "cell_type": "code",
   "execution_count": 37,
   "metadata": {},
   "outputs": [
    {
     "name": "stdout",
     "output_type": "stream",
     "text": [
      "                            OLS Regression Results                            \n",
      "==============================================================================\n",
      "Dep. Variable:                      Y   R-squared:                       0.723\n",
      "Model:                            OLS   Adj. R-squared:                  0.719\n",
      "Method:                 Least Squares   F-statistic:                     177.4\n",
      "Date:                Wed, 19 Oct 2022   Prob (F-statistic):          2.83e-110\n",
      "Time:                        13:51:26   Log-Likelihood:                 66.321\n",
      "No. Observations:                 414   AIC:                            -118.6\n",
      "Df Residuals:                     407   BIC:                            -90.46\n",
      "Df Model:                           6                                         \n",
      "Covariance Type:            nonrobust                                         \n",
      "==============================================================================\n",
      "                 coef    std err          t      P>|t|      [0.025      0.975]\n",
      "------------------------------------------------------------------------------\n",
      "const       -593.6490    106.762     -5.560      0.000    -803.523    -383.775\n",
      "X2_1          -0.0215      0.004     -5.951      0.000      -0.029      -0.014\n",
      "X2_2           0.0004    8.7e-05      4.418      0.000       0.000       0.001\n",
      "Log_X3        -0.1435      0.016     -9.197      0.000      -0.174      -0.113\n",
      "X4             0.0134      0.005      2.733      0.007       0.004       0.023\n",
      "X5            10.4757      0.964     10.871      0.000       8.581      12.370\n",
      "X6             2.7706      0.891      3.110      0.002       1.020       4.522\n",
      "==============================================================================\n",
      "Omnibus:                       92.783   Durbin-Watson:                   2.103\n",
      "Prob(Omnibus):                  0.000   Jarque-Bera (JB):             1718.351\n",
      "Skew:                          -0.352   Prob(JB):                         0.00\n",
      "Kurtosis:                      12.956   Cond. No.                     6.81e+06\n",
      "==============================================================================\n",
      "\n",
      "Notes:\n",
      "[1] Standard Errors assume that the covariance matrix of the errors is correctly specified.\n",
      "[2] The condition number is large, 6.81e+06. This might indicate that there are\n",
      "strong multicollinearity or other numerical problems.\n"
     ]
    }
   ],
   "source": [
    "import statsmodels.api as sm\n",
    "ols = sm.OLS(np.log(data.iloc[:, 6]), sm.add_constant(data.iloc[:, :6]))\n",
    "lm = ols.fit()\n",
    "print(lm.summary())"
   ]
  },
  {
   "cell_type": "markdown",
   "metadata": {},
   "source": [
    "# Calculate and identify the cases with high leverage"
   ]
  },
  {
   "cell_type": "code",
   "execution_count": 60,
   "metadata": {},
   "outputs": [
    {
     "data": {
      "text/plain": [
       "Text(0, 0.5, 'Leverage')"
      ]
     },
     "execution_count": 60,
     "metadata": {},
     "output_type": "execute_result"
    },
    {
     "data": {
      "image/png": "[encoded data removed]",
      "text/plain": [
       "<Figure size 576x288 with 1 Axes>"
      ]
     },
     "metadata": {
      "needs_background": "light"
     },
     "output_type": "display_data"
    }
   ],
   "source": [
    "leverage = lm.get_influence().hat_matrix_diag\n",
    "data[leverage > 2*len(lm.params)/data.shape[0]]\n",
    "plt.figure(figsize=(8,4))\n",
    "plt.scatter(data.index, leverage)\n",
    "plt.xlabel('Index')\n",
    "plt.ylabel('Leverage')"
   ]
  },
  {
   "cell_type": "markdown",
   "metadata": {},
   "source": [
    "# Calculate and identify the cases with high cook's distance"
   ]
  },
  {
   "cell_type": "code",
   "execution_count": 47,
   "metadata": {},
   "outputs": [
    {
     "data": {
      "text/plain": [
       "Text(0, 0.5, 'Cooks distance')"
      ]
     },
     "execution_count": 47,
     "metadata": {},
     "output_type": "execute_result"
    },
    {
     "data": {
      "image/png": "[encoded data removed]",
      "text/plain": [
       "<Figure size 576x288 with 1 Axes>"
      ]
     },
     "metadata": {
      "needs_background": "light"
     },
     "output_type": "display_data"
    }
   ],
   "source": [
    "cooks = lm.get_influence().cooks_distance[0]\n",
    "data[cooks > 1]\n",
    "plt.figure(figsize=(8,4))\n",
    "plt.scatter(data.index, cooks)\n",
    "plt.xlabel('Index')\n",
    "plt.ylabel('Cooks distance')"
   ]
  },
  {
   "cell_type": "markdown",
   "metadata": {},
   "source": [
    "# Diagnostic check: residual plot"
   ]
  },
  {
   "cell_type": "code",
   "execution_count": 38,
   "metadata": {},
   "outputs": [
    {
     "data": {
      "text/plain": [
       "Text(0, 0.5, 'Residuals')"
      ]
     },
     "execution_count": 38,
     "metadata": {},
     "output_type": "execute_result"
    },
    {
     "data": {
      "image/png": "[encoded data removed]",
      "text/plain": [
       "<Figure size 864x432 with 1 Axes>"
      ]
     },
     "metadata": {
      "needs_background": "light"
     },
     "output_type": "display_data"
    }
   ],
   "source": [
    "fitted_y = lm.fittedvalues\n",
    "residual = lm.resid\n",
    "plt.figure(figsize=(12,6))\n",
    "plt.scatter(fitted_y,residual)\n",
    "plt.title('Residuals v.s. Fitted')\n",
    "plt.xlabel('Fitted values')\n",
    "plt.ylabel('Residuals')"
   ]
  },
  {
   "cell_type": "markdown",
   "metadata": {},
   "source": [
    "# Diagnostic check: histogram and QQ-plot"
   ]
  },
  {
   "cell_type": "code",
   "execution_count": 40,
   "metadata": {},
   "outputs": [
    {
     "data": {
      "text/plain": [
       "Text(0, 0.5, 'Frequency')"
      ]
     },
     "execution_count": 40,
     "metadata": {},
     "output_type": "execute_result"
    },
    {
     "data": {
      "image/png": "[encoded data removed]",
      "text/plain": [
       "<Figure size 432x288 with 1 Axes>"
      ]
     },
     "metadata": {
      "needs_background": "light"
     },
     "output_type": "display_data"
    },
    {
     "data": {
      "image/png": "[encoded data removed]",
      "text/plain": [
       "<Figure size 432x288 with 1 Axes>"
      ]
     },
     "metadata": {
      "needs_background": "light"
     },
     "output_type": "display_data"
    }
   ],
   "source": [
    "from sklearn.preprocessing import scale\n",
    "residual = lm.resid\n",
    "residual_norm = scale(residual)\n",
    "sm.qqplot(residual_norm, line='45')\n",
    "plt.figure(figsize=(6,4))\n",
    "plt.hist(x=residual_norm, bins='auto', rwidth=0.85)\n",
    "plt.title('Histogram for standardized residuals')\n",
    "plt.xlabel('Standardized residuals')\n",
    "plt.ylabel('Frequency')"
   ]
  },
  {
   "cell_type": "markdown",
   "metadata": {},
   "source": [
    "# Diagnostic check: residual-leverage plot"
   ]
  },
  {
   "cell_type": "code",
   "execution_count": 59,
   "metadata": {},
   "outputs": [
    {
     "name": "stderr",
     "output_type": "stream",
     "text": [
      "C:\\Users\\yt0005\\Anaconda3\\lib\\site-packages\\seaborn\\_decorators.py:36: FutureWarning: Pass the following variables as keyword args: x, y. From version 0.12, the only valid positional argument will be `data`, and passing other arguments without an explicit keyword will result in an error or misinterpretation.\n",
      "  warnings.warn(\n"
     ]
    },
    {
     "data": {
      "image/png": "[encoded data removed]",
      "text/plain": [
       "<Figure size 864x432 with 1 Axes>"
      ]
     },
     "metadata": {
      "needs_background": "light"
     },
     "output_type": "display_data"
    }
   ],
   "source": [
    "import seaborn as sns\n",
    "leverage = lm.get_influence().hat_matrix_diag\n",
    "cooks = lm.get_influence().cooks_distance[0]\n",
    "plot_lm = plt.figure(figsize=(12,6))\n",
    "plt.scatter(leverage, residual_norm, alpha=0.5)\n",
    "\n",
    "# sns.regplot is used to plot a linear regression model fit.\n",
    "sns.regplot(leverage, residual_norm, scatter=False, ci=False, lowess=True, line_kws={'color': 'red', 'lw': 1, 'alpha': 0.8})\n",
    "\n",
    "plt.title('Residuals vs Leverage')\n",
    "plt.xlabel('Leverage')\n",
    "plt.ylabel('Standardized Residuals')\n",
    "plot_lm.axes[0].set_xlim(0, max(leverage)+0.01)\n",
    "plot_lm.axes[0].set_ylim(-18, 18)\n",
    "leverage_top_3 = np.flip(np.argsort(cooks), 0)[:3]\n",
    "for i in leverage_top_3:\n",
    "    plot_lm.axes[0].annotate(i, xy=(leverage[i], residual_norm[i]))\n",
    "def graph(formula, x_range, label=None):\n",
    "    x = x_range\n",
    "    y = formula(x)\n",
    "    plt.plot(x, y, label=label, lw=1, ls='--', color='red')\n",
    "\n",
    "p = len(lm.params) # number of model parameters\n",
    "\n",
    "graph(lambda x: np.sqrt((0.5 * p * (1 - x)) / x), \n",
    "      np.linspace(0.001, 0.090, 50), \n",
    "      'Cook\\'s distance') # 0.5 line\n",
    "graph(lambda x: -np.sqrt((0.5 * p * (1 - x)) / x), \n",
    "      np.linspace(0.001, 0.090, 50)) # 0.5 line\n",
    "graph(lambda x: np.sqrt((1 * p * (1 - x)) / x), \n",
    "      np.linspace(0.001, 0.090, 50)) # 1 line\n",
    "graph(lambda x: -np.sqrt((1 * p * (1 - x)) / x), \n",
    "      np.linspace(0.001, 0.090, 50)) # 1 line\n",
    "plt.legend(loc='upper right');"
   ]
  }
 ],
 "metadata": {
  "kernelspec": {
   "display_name": "Python 3",
   "language": "python",
   "name": "python3"
  },
  "language_info": {
   "codemirror_mode": {
    "name": "ipython",
    "version": 3
   },
   "file_extension": ".py",
   "mimetype": "text/x-python",
   "name": "python",
   "nbconvert_exporter": "python",
   "pygments_lexer": "ipython3",
   "version": "3.8.5"
  }
 },
 "nbformat": 4,
 "nbformat_minor": 4
}
